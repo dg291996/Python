{
 "cells": [
  {
   "cell_type": "code",
   "execution_count": 7,
   "id": "7c44ec7e",
   "metadata": {},
   "outputs": [
    {
     "name": "stdout",
     "output_type": "stream",
     "text": [
      "Type Rock/Paper/Scissor or Q to quit: ROCK\n",
      "Computer Picked ROCK.\n",
      "Draw\n",
      "Type Rock/Paper/Scissor or Q to quit: ROCK\n",
      "Computer Picked ROCK.\n",
      "Draw\n",
      "Type Rock/Paper/Scissor or Q to quit: Dwyane\n",
      "Not a valid option. Please choose the correct choice \n",
      "Type Rock/Paper/Scissor or Q to quit: q\n",
      "You Won 0 Times\n",
      "Computer Won 0 Times\n",
      "Goodbye!\n"
     ]
    }
   ],
   "source": [
    "import random\n",
    "\n",
    "user_wins=0\n",
    "computer_wins=0\n",
    "\n",
    "options=['ROCK','PAPER','SCISSOR']\n",
    "\n",
    "while True:\n",
    "    user_Pick=input(\"Type Rock/Paper/Scissor or Q to quit: \").upper()\n",
    "    \n",
    "    if user_Pick=='Q':\n",
    "        break\n",
    "\n",
    "    if user_Pick not in options:\n",
    "        print(\"Not a valid option. Please choose the correct choice \")\n",
    "        continue\n",
    "\n",
    "    random_Number=random.randint(0,2)\n",
    "    computer_Pick=options[random_Number]\n",
    "    print(\"Computer Picked\", computer_Pick + \".\")\n",
    "\n",
    "    if user_Pick== \"ROCK\" and computer_Pick == \"SCISSOR\" or user_Pick== \"PAPER\" and computer_Pick == \"ROCK\" or  user_Pick== \"SCISSOR\" and computer_Pick == \"PAPER\":\n",
    "        print(\"You Won :-)  \")\n",
    "        user_wins += 1\n",
    "        continue\n",
    "\n",
    "    elif user_Pick == computer_Pick : \n",
    "        print(\"Draw\")\n",
    "        continue\n",
    "    else:\n",
    "        print(\"You lose! X-(\")\n",
    "        computer_wins += 1\n",
    "        continue\n",
    "\n",
    "print(\"You Won\", user_wins , \"Times\")\n",
    "print(\"Computer Won\", computer_wins , \"Times\")\n",
    "print(\"Goodbye!\")"
   ]
  },
  {
   "cell_type": "code",
   "execution_count": null,
   "id": "95526f60",
   "metadata": {},
   "outputs": [],
   "source": []
  }
 ],
 "metadata": {
  "kernelspec": {
   "display_name": "Python 3 (ipykernel)",
   "language": "python",
   "name": "python3"
  },
  "language_info": {
   "codemirror_mode": {
    "name": "ipython",
    "version": 3
   },
   "file_extension": ".py",
   "mimetype": "text/x-python",
   "name": "python",
   "nbconvert_exporter": "python",
   "pygments_lexer": "ipython3",
   "version": "3.9.12"
  }
 },
 "nbformat": 4,
 "nbformat_minor": 5
}
