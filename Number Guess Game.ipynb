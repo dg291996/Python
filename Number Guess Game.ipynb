{
 "cells": [
  {
   "cell_type": "code",
   "execution_count": 9,
   "id": "ddc79373",
   "metadata": {},
   "outputs": [],
   "source": [
    "import random"
   ]
  },
  {
   "cell_type": "code",
   "execution_count": 10,
   "id": "0befac0a",
   "metadata": {},
   "outputs": [],
   "source": [
    "def number_Guesser(input_Number):\n",
    "    while input_Number not in range(1,11):\n",
    "        if input_Number not in range(1,11):\n",
    "            print(\"Number not in range\")\n",
    "            input_Number=int(input(\"Enter number between 1-10: \"))\n",
    "            if input_Number in range(1,10):\n",
    "                break\n",
    "    \n",
    "\n",
    "    if random_Number==input_Number:\n",
    "        print(\"Correct! You Win :-)\")\n",
    "    else:\n",
    "        print(\"Sorry! You Lost x-( \")    \n",
    "\n"
   ]
  },
  {
   "cell_type": "code",
   "execution_count": 11,
   "id": "41171609",
   "metadata": {},
   "outputs": [
    {
     "data": {
      "text/plain": [
       "8"
      ]
     },
     "execution_count": 11,
     "metadata": {},
     "output_type": "execute_result"
    }
   ],
   "source": [
    "random_Number=random.randint(1,10)\n",
    "random_Number"
   ]
  },
  {
   "cell_type": "code",
   "execution_count": 13,
   "id": "08274a49",
   "metadata": {},
   "outputs": [
    {
     "name": "stdout",
     "output_type": "stream",
     "text": [
      "Enter number between 1-10: 11\n",
      "Number not in range\n",
      "Enter number between 1-10: 8\n",
      "Correct! You Win :-)\n"
     ]
    }
   ],
   "source": [
    "input_Number=int(input(\"Enter number between 1-10: \"))\n",
    "a=number_Guesser(input_Number)"
   ]
  },
  {
   "cell_type": "code",
   "execution_count": null,
   "id": "76da3b05",
   "metadata": {},
   "outputs": [],
   "source": []
  },
  {
   "cell_type": "code",
   "execution_count": null,
   "id": "b3465073",
   "metadata": {},
   "outputs": [],
   "source": []
  }
 ],
 "metadata": {
  "kernelspec": {
   "display_name": "Python 3 (ipykernel)",
   "language": "python",
   "name": "python3"
  },
  "language_info": {
   "codemirror_mode": {
    "name": "ipython",
    "version": 3
   },
   "file_extension": ".py",
   "mimetype": "text/x-python",
   "name": "python",
   "nbconvert_exporter": "python",
   "pygments_lexer": "ipython3",
   "version": "3.9.12"
  }
 },
 "nbformat": 4,
 "nbformat_minor": 5
}
